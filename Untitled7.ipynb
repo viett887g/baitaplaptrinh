{
  "nbformat": 4,
  "nbformat_minor": 0,
  "metadata": {
    "colab": {
      "name": "Untitled7.ipynb",
      "provenance": [],
      "authorship_tag": "ABX9TyNXNbSj/mNTqBvmRCGg7vaa",
      "include_colab_link": true
    },
    "kernelspec": {
      "name": "python3",
      "display_name": "Python 3"
    },
    "language_info": {
      "name": "python"
    }
  },
  "cells": [
    {
      "cell_type": "markdown",
      "metadata": {
        "id": "view-in-github",
        "colab_type": "text"
      },
      "source": [
        "<a href=\"https://colab.research.google.com/github/viett887g/baitaplaptrinh/blob/main/Untitled7.ipynb\" target=\"_parent\"><img src=\"https://colab.research.google.com/assets/colab-badge.svg\" alt=\"Open In Colab\"/></a>"
      ]
    },
    {
      "cell_type": "code",
      "metadata": {
        "id": "gAzEiZOEkkz6"
      },
      "source": [
        "Tổng của 2 số\n",
        "Tích của 2 số\n",
        "Hiệu của 2 số\n",
        "Phép chia lấy phần dư của 2 số\n",
        "Phép chia lấy phần nguyên của 2 số"
      ],
      "execution_count": null,
      "outputs": []
    },
    {
      "cell_type": "code",
      "metadata": {
        "colab": {
          "base_uri": "https://localhost:8080/"
        },
        "id": "d4gBUKWtkqf3",
        "outputId": "01ee9035-8bf4-4ca2-9b8b-f6180310d1b7"
      },
      "source": [
        "a = input(\"a=\")\n",
        "b= input(\"b=\")\n",
        "a = int(a)\n",
        "b= int(b)\n",
        "c=a+b\n",
        "print(\"a+b=\",c)\n",
        "d= a*b\n",
        "print(\"a*b=\",d)\n",
        "e= a-b\n",
        "print(\"a-b=\",e)\n",
        "f= a//b\n",
        "print(\"a//b=\",f)\n",
        "g= a/b\n",
        "print(\"a/b=\",g)"
      ],
      "execution_count": 2,
      "outputs": [
        {
          "output_type": "stream",
          "name": "stdout",
          "text": [
            "a=5\n",
            "b=2\n",
            "a+b= 7\n",
            "a*b= 10\n",
            "a-b= 3\n",
            "a//b= 2\n",
            "a/b= 2.5\n"
          ]
        }
      ]
    },
    {
      "cell_type": "code",
      "metadata": {
        "id": "PX_mUzJ_lY_J"
      },
      "source": [
        "Tổng của 2 số\n",
        "Tích của 2 số\n",
        "Hiệu của 2 số\n",
        "Thương của 2 số"
      ],
      "execution_count": null,
      "outputs": []
    },
    {
      "cell_type": "code",
      "metadata": {
        "colab": {
          "base_uri": "https://localhost:8080/"
        },
        "id": "W0wmvcRWlcGH",
        "outputId": "4a359c2a-8c2d-4d64-cd81-8a1e433d6348"
      },
      "source": [
        "a= int(input('nhap vao 1 so'))\n",
        "b=int(input('nhap vao 1 so'))\n",
        "c=a+b\n",
        "print(\"a+b=\",c)\n",
        "d=a*b\n",
        "print(\"a*b=\",d)\n",
        "e=a-b\n",
        "print(\"a-b=\",e)\n",
        "f=a/b\n",
        "print(\"a/b=\",f)\n",
        "\n",
        "\n"
      ],
      "execution_count": 3,
      "outputs": [
        {
          "output_type": "stream",
          "name": "stdout",
          "text": [
            "nhap vao 1 so6\n",
            "nhap vao 1 so5\n",
            "a+b= 11\n",
            "a*b= 30\n",
            "a-b= 1\n",
            "a/b= 1.2\n"
          ]
        }
      ]
    },
    {
      "cell_type": "code",
      "metadata": {
        "id": "xJl_Tt0JmS3I"
      },
      "source": [
        "Bài 4: Nhập 2 số từ bàn phím và thực hiện các phép so sánh sau giữa 2 số:"
      ],
      "execution_count": null,
      "outputs": []
    },
    {
      "cell_type": "code",
      "metadata": {
        "colab": {
          "base_uri": "https://localhost:8080/"
        },
        "id": "RsNcOXhWmalH",
        "outputId": "d3be01a2-fb26-424e-b6ab-053f484ef123"
      },
      "source": [
        "a=5\n",
        "b=3\n",
        "print(a>=b)\n",
        "print(a<=b)\n",
        "print(a>b)\n",
        "print(a<b)\n",
        "print(a!=b)"
      ],
      "execution_count": 22,
      "outputs": [
        {
          "output_type": "stream",
          "name": "stdout",
          "text": [
            "True\n",
            "False\n",
            "True\n",
            "False\n",
            "True\n"
          ]
        }
      ]
    },
    {
      "cell_type": "code",
      "metadata": {
        "id": "TIeYBaIHnYAe"
      },
      "source": [
        "Nhập 1 chuỗi ký tự từ bàn phím:\n",
        "\n",
        "Chuyển thành chuỗi in hoa\n",
        "Chuyển thành chuỗi in thường"
      ],
      "execution_count": null,
      "outputs": []
    },
    {
      "cell_type": "code",
      "metadata": {
        "colab": {
          "base_uri": "https://localhost:8080/"
        },
        "id": "Vo53pZLsnbNO",
        "outputId": "f9b6cd79-5225-4e76-9d68-645a642b9d39"
      },
      "source": [
        "name = \"thuytrang\"\n",
        "print(name.upper())\n",
        "print(name.lower())"
      ],
      "execution_count": 12,
      "outputs": [
        {
          "output_type": "stream",
          "name": "stdout",
          "text": [
            "THUYTRANG\n",
            "thuytrang\n"
          ]
        }
      ]
    },
    {
      "cell_type": "code",
      "metadata": {
        "id": "OZBTXXXHonO5"
      },
      "source": [
        " Xuất ra màn hình 1 chuỗi ký từ nằm trên nhiều hàng"
      ],
      "execution_count": null,
      "outputs": []
    }
  ]
}